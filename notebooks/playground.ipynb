{
 "cells": [
  {
   "cell_type": "code",
   "execution_count": null,
   "metadata": {},
   "outputs": [],
   "source": [
    "import torch\n",
    "\n",
    "label = torch.randn(8, 10)\n",
    "img = torch.randn(8, 1, 28, 28)\n",
    "label = label.unsqueeze(2).unsqueeze(3)\n",
    "print(label.shape)\n",
    "label = label.expand(-1, -1, 28, 28)\n",
    "print(label.shape)\n",
    "img = torch.cat([img, label], dim=1)\n",
    "print(img.shape)"
   ]
  }
 ],
 "metadata": {
  "kernelspec": {
   "display_name": "MNIST-GAN",
   "language": "python",
   "name": "python3"
  },
  "language_info": {
   "codemirror_mode": {
    "name": "ipython",
    "version": 3
   },
   "file_extension": ".py",
   "mimetype": "text/x-python",
   "name": "python",
   "nbconvert_exporter": "python",
   "pygments_lexer": "ipython3",
   "version": "3.10.13"
  }
 },
 "nbformat": 4,
 "nbformat_minor": 2
}
